{
  "nbformat": 4,
  "nbformat_minor": 0,
  "metadata": {
    "colab": {
      "name": "space_groups_ML.ipynb",
      "provenance": [],
      "collapsed_sections": []
    },
    "kernelspec": {
      "name": "python3",
      "display_name": "Python 3"
    },
    "language_info": {
      "name": "python"
    },
    "gpuClass": "standard"
  },
  "cells": [
    {
      "cell_type": "code",
      "source": [
        "import pickle\n",
        "import pandas as pd\n",
        "import matplotlib.pyplot as plt\n",
        "import numpy as np\n",
        "from scipy.stats import uniform, randint\n",
        "from matplotlib.ticker import MultipleLocator, AutoMinorLocator\n",
        "\n",
        "import xgboost as xgb\n",
        "from sklearn.metrics import precision_recall_fscore_support\n",
        "from sklearn.model_selection import (\n",
        "    KFold,\n",
        "    GridSearchCV,\n",
        "    RepeatedKFold,\n",
        "    cross_val_score,\n",
        "    train_test_split,\n",
        "    RandomizedSearchCV\n",
        ")\n",
        "from sklearn.linear_model import LogisticRegression, LogisticRegressionCV\n",
        "from sklearn.metrics import accuracy_score, RocCurveDisplay\n",
        "from sklearn.tree import DecisionTreeClassifier, plot_tree\n",
        "from sklearn.ensemble import RandomForestClassifier\n",
        "from sklearn.neighbors import KNeighborsClassifier\n",
        "from sklearn.preprocessing import StandardScaler\n",
        "from sklearn.ensemble import BaggingClassifier\n",
        "from sklearn.pipeline import make_pipeline"
      ],
      "metadata": {
        "id": "V3jy85-KuOCW"
      },
      "execution_count": 1,
      "outputs": []
    },
    {
      "cell_type": "code",
      "source": [
        "# for mounting google colab\n",
        "from google.colab import drive\n",
        "drive.mount(\"/content/gdrive\")"
      ],
      "metadata": {
        "colab": {
          "base_uri": "https://localhost:8080/"
        },
        "id": "AyW9vSYUuNT2",
        "outputId": "4ba8acdc-c9ea-4f3f-d0f2-4b5f6e59ba2c"
      },
      "execution_count": 2,
      "outputs": [
        {
          "output_type": "stream",
          "name": "stdout",
          "text": [
            "Drive already mounted at /content/gdrive; to attempt to forcibly remount, call drive.mount(\"/content/gdrive\", force_remount=True).\n"
          ]
        }
      ]
    },
    {
      "cell_type": "code",
      "source": [
        "# Reading the data file\n",
        "parquet_file = ('/content/gdrive/My Drive/ML/TM_data_withFeatures_OxidMatched_Uncommon_3')\n",
        "df = pd.read_parquet(parquet_file, engine='auto')\n",
        "print (df.shape)"
      ],
      "metadata": {
        "colab": {
          "base_uri": "https://localhost:8080/"
        },
        "id": "8EJvXESuuJe8",
        "outputId": "a711f5b5-57ec-49cf-899b-35f1e4863364"
      },
      "execution_count": 3,
      "outputs": [
        {
          "output_type": "stream",
          "name": "stdout",
          "text": [
            "(181054, 101)\n"
          ]
        }
      ]
    },
    {
      "cell_type": "code",
      "source": [
        "# Selecting space groups with values higher than 500\n",
        "counts = df['SG #'].value_counts()\n",
        "x = df.loc[df['SG #'].isin(counts.index[counts > 500])]\n",
        "x['SG #'].unique()"
      ],
      "metadata": {
        "colab": {
          "base_uri": "https://localhost:8080/"
        },
        "id": "8wP67LXwzbEF",
        "outputId": "dbfae878-cabc-4aa8-8519-138e1560e5df"
      },
      "execution_count": 4,
      "outputs": [
        {
          "output_type": "execute_result",
          "data": {
            "text/plain": [
              "array([216, 227,  62, 166,  14, 139, 194, 221, 225, 187, 156])"
            ]
          },
          "metadata": {},
          "execution_count": 4
        }
      ]
    },
    {
      "cell_type": "code",
      "source": [
        "x3 = df[~df['SG #'].isin(x['SG #'])]\n"
      ],
      "metadata": {
        "id": "nC6WVkMlktqL"
      },
      "execution_count": 5,
      "outputs": []
    },
    {
      "cell_type": "code",
      "source": [
        "col_to_replace = x3['SG #'].unique()"
      ],
      "metadata": {
        "id": "yTtBDTgElKqQ"
      },
      "execution_count": 6,
      "outputs": []
    },
    {
      "cell_type": "code",
      "source": [
        "df['SG #'].unique()"
      ],
      "metadata": {
        "colab": {
          "base_uri": "https://localhost:8080/"
        },
        "id": "XY_9rDDvleFh",
        "outputId": "95301de6-3093-4b8f-b427-352e9347713b"
      },
      "execution_count": 7,
      "outputs": [
        {
          "output_type": "execute_result",
          "data": {
            "text/plain": [
              "array([216, 186, 227,  62, 123,  71,  11, 140, 193, 167,  10,  44, 128,\n",
              "        12,  87,  29,  58, 141,  40,  82, 112,   1,  79,   2, 130,  55,\n",
              "        63, 229, 138,  51, 124, 176, 136,   4,  15, 166,  14, 137,  56,\n",
              "        74, 135,  88,  65,  52, 109, 164,  36,  31,  33, 139,  60, 157,\n",
              "       162, 148, 185, 217, 146,  64, 127, 194, 223, 221,  19,  76, 122,\n",
              "       225,   9,  59,  61,  45, 205, 226, 173,  68, 191, 187, 189,  13,\n",
              "        35, 198, 129,  85,  26, 150, 206,  57, 156, 204, 188,   7,  84,\n",
              "         8, 116, 132, 147, 163,  67, 152, 213,  53,  25, 107, 160, 131,\n",
              "        38,   6,  86, 212, 190, 145, 182,  72,  91, 161, 121,  47,  70,\n",
              "       215, 214,  43, 115,   5, 174,  96, 218, 105, 102, 183,  46,  50,\n",
              "        83,  39, 200, 113,  80, 114, 126,  92, 142,  73,  23, 119,  81,\n",
              "       111, 125,  66,  69,  95, 108,  18,  41, 220, 199, 120, 159, 181,\n",
              "       165, 158, 133,  42, 180,  54,  97, 117,  34, 143, 230,  99,  20,\n",
              "       154, 118, 155,  94, 110, 224, 134,  30,  37])"
            ]
          },
          "metadata": {},
          "execution_count": 7
        }
      ]
    },
    {
      "cell_type": "code",
      "source": [
        "['Pm-3m', 'R-3m', 'F-43m', 'P3m1', 'R3m', 'Fm-3m', 'I4/mmm', 'Pnma',\n",
        "       'Fd-3m', 'R-3', 'P-6m2', 'P2_1/c', 'P6_3/mmc']"
      ],
      "metadata": {
        "id": "pyNhZ9tXaQ6H"
      },
      "execution_count": null,
      "outputs": []
    },
    {
      "cell_type": "code",
      "source": [
        "x_tmp = df"
      ],
      "metadata": {
        "id": "x-lxAPbforPD"
      },
      "execution_count": 7,
      "outputs": []
    },
    {
      "cell_type": "code",
      "source": [
        "x_tmp[x_tmp['SG #'] == 555].count()"
      ],
      "metadata": {
        "colab": {
          "base_uri": "https://localhost:8080/"
        },
        "id": "CmqhkEcmObcw",
        "outputId": "8c7f9901-703b-4e36-a614-c37f8033719c"
      },
      "execution_count": 10,
      "outputs": [
        {
          "output_type": "execute_result",
          "data": {
            "text/plain": [
              "A Symbol           6819\n",
              "Atomic Number 1    6819\n",
              "Coefficient 1      6819\n",
              "B Symbol           6819\n",
              "Atomic Number 2    6819\n",
              "                   ... \n",
              "C - Ioniz Pot      6819\n",
              "gamma              6819\n",
              "Oxidation 1        6819\n",
              "Oxidation 2        6819\n",
              "Oxidation 3        6819\n",
              "Length: 101, dtype: int64"
            ]
          },
          "metadata": {},
          "execution_count": 10
        }
      ]
    },
    {
      "cell_type": "code",
      "source": [
        "\n",
        "x_tmp['SG #'] = x_tmp['SG #'].replace( to_replace = col_to_replace, value = 555)"
      ],
      "metadata": {
        "id": "hnKk6QS9m7Os"
      },
      "execution_count": 8,
      "outputs": []
    },
    {
      "cell_type": "code",
      "source": [
        "x_tmp['SG #'].unique()"
      ],
      "metadata": {
        "colab": {
          "base_uri": "https://localhost:8080/"
        },
        "id": "6qqrKnVUnf1V",
        "outputId": "43da6dae-8e80-4c83-d9d4-f5ebe7f83ff1"
      },
      "execution_count": 9,
      "outputs": [
        {
          "output_type": "execute_result",
          "data": {
            "text/plain": [
              "array([216, 555, 227,  62, 166,  14, 139, 194, 221, 225, 187, 156])"
            ]
          },
          "metadata": {},
          "execution_count": 9
        }
      ]
    },
    {
      "cell_type": "code",
      "source": [
        "# Top 10 SG dist\n",
        "sgc = x_tmp['SG #'].value_counts()\n",
        "sgct = sgc.head(10)\n",
        "sgc.plot(kind='bar', title='Space Group Distribution', ylabel='Count', xlabel='Space Group Number')"
      ],
      "metadata": {
        "colab": {
          "base_uri": "https://localhost:8080/",
          "height": 321
        },
        "id": "NPrblQIAKugn",
        "outputId": "db8b7550-adae-4696-e85a-aa1d4c85c744"
      },
      "execution_count": 17,
      "outputs": [
        {
          "output_type": "execute_result",
          "data": {
            "text/plain": [
              "<matplotlib.axes._subplots.AxesSubplot at 0x7f77c488dfd0>"
            ]
          },
          "metadata": {},
          "execution_count": 17
        },
        {
          "output_type": "display_data",
          "data": {
            "text/plain": [
              "<Figure size 432x288 with 1 Axes>"
            ],
            "image/png": "[encoded data removed]"
          },
          "metadata": {
            "needs_background": "light"
          }
        }
      ]
    },
    {
      "cell_type": "code",
      "source": [
        "prop = 100*sgc/181054 "
      ],
      "metadata": {
        "id": "dfslSbTeMkN8"
      },
      "execution_count": 18,
      "outputs": []
    },
    {
      "cell_type": "code",
      "source": [
        "prop.to_frame()"
      ],
      "metadata": {
        "colab": {
          "base_uri": "https://localhost:8080/",
          "height": 426
        },
        "id": "8HBLvJYeM0Dn",
        "outputId": "b082a2a5-b726-4b99-963a-eb53136b0def"
      },
      "execution_count": 24,
      "outputs": [
        {
          "output_type": "execute_result",
          "data": {
            "text/plain": [
              "          SG #\n",
              "221  35.235344\n",
              "225  21.927160\n",
              "216  17.517978\n",
              "166   9.127664\n",
              "156   5.805450\n",
              "555   3.766280\n",
              "187   3.009047\n",
              "139   1.826527\n",
              "227   0.663338\n",
              "62    0.464502\n",
              "194   0.372817\n",
              "14    0.283893"
            ],
            "text/html": [
              "\n",
              "  <div id=\"df-c1384744-1eef-4406-b558-9c936b40729e\">\n",
              "    <div class=\"colab-df-container\">\n",
              "      <div>\n",
              "<style scoped>\n",
              "    .dataframe tbody tr th:only-of-type {\n",
              "        vertical-align: middle;\n",
              "    }\n",
              "\n",
              "    .dataframe tbody tr th {\n",
              "        vertical-align: top;\n",
              "    }\n",
              "\n",
              "    .dataframe thead th {\n",
              "        text-align: right;\n",
              "    }\n",
              "</style>\n",
              "<table border=\"1\" class=\"dataframe\">\n",
              "  <thead>\n",
              "    <tr style=\"text-align: right;\">\n",
              "      <th></th>\n",
              "      <th>SG #</th>\n",
              "    </tr>\n",
              "  </thead>\n",
              "  <tbody>\n",
              "    <tr>\n",
              "      <th>221</th>\n",
              "      <td>35.235344</td>\n",
              "    </tr>\n",
              "    <tr>\n",
              "      <th>225</th>\n",
              "      <td>21.927160</td>\n",
              "    </tr>\n",
              "    <tr>\n",
              "      <th>216</th>\n",
              "      <td>17.517978</td>\n",
              "    </tr>\n",
              "    <tr>\n",
              "      <th>166</th>\n",
              "      <td>9.127664</td>\n",
              "    </tr>\n",
              "    <tr>\n",
              "      <th>156</th>\n",
              "      <td>5.805450</td>\n",
              "    </tr>\n",
              "    <tr>\n",
              "      <th>555</th>\n",
              "      <td>3.766280</td>\n",
              "    </tr>\n",
              "    <tr>\n",
              "      <th>187</th>\n",
              "      <td>3.009047</td>\n",
              "    </tr>\n",
              "    <tr>\n",
              "      <th>139</th>\n",
              "      <td>1.826527</td>\n",
              "    </tr>\n",
              "    <tr>\n",
              "      <th>227</th>\n",
              "      <td>0.663338</td>\n",
              "    </tr>\n",
              "    <tr>\n",
              "      <th>62</th>\n",
              "      <td>0.464502</td>\n",
              "    </tr>\n",
              "    <tr>\n",
              "      <th>194</th>\n",
              "      <td>0.372817</td>\n",
              "    </tr>\n",
              "    <tr>\n",
              "      <th>14</th>\n",
              "      <td>0.283893</td>\n",
              "    </tr>\n",
              "  </tbody>\n",
              "</table>\n",
              "</div>\n",
              "      <button class=\"colab-df-convert\" onclick=\"convertToInteractive('df-c1384744-1eef-4406-b558-9c936b40729e')\"\n",
              "              title=\"Convert this dataframe to an interactive table.\"\n",
              "              style=\"display:none;\">\n",
              "        \n",
              "  <svg xmlns=\"http://www.w3.org/2000/svg\" height=\"24px\"viewBox=\"0 0 24 24\"\n",
              "       width=\"24px\">\n",
              "    <path d=\"M0 0h24v24H0V0z\" fill=\"none\"/>\n",
              "    <path d=\"M18.56 5.44l.94 2.06.94-2.06 2.06-.94-2.06-.94-.94-2.06-.94 2.06-2.06.94zm-11 1L8.5 8.5l.94-2.06 2.06-.94-2.06-.94L8.5 2.5l-.94 2.06-2.06.94zm10 10l.94 2.06.94-2.06 2.06-.94-2.06-.94-.94-2.06-.94 2.06-2.06.94z\"/><path d=\"M17.41 7.96l-1.37-1.37c-.4-.4-.92-.59-1.43-.59-.52 0-1.04.2-1.43.59L10.3 9.45l-7.72 7.72c-.78.78-.78 2.05 0 2.83L4 21.41c.39.39.9.59 1.41.59.51 0 1.02-.2 1.41-.59l7.78-7.78 2.81-2.81c.8-.78.8-2.07 0-2.86zM5.41 20L4 18.59l7.72-7.72 1.47 1.35L5.41 20z\"/>\n",
              "  </svg>\n",
              "      </button>\n",
              "      \n",
              "  <style>\n",
              "    .colab-df-container {\n",
              "      display:flex;\n",
              "      flex-wrap:wrap;\n",
              "      gap: 12px;\n",
              "    }\n",
              "\n",
              "    .colab-df-convert {\n",
              "      background-color: #E8F0FE;\n",
              "      border: none;\n",
              "      border-radius: 50%;\n",
              "      cursor: pointer;\n",
              "      display: none;\n",
              "      fill: #1967D2;\n",
              "      height: 32px;\n",
              "      padding: 0 0 0 0;\n",
              "      width: 32px;\n",
              "    }\n",
              "\n",
              "    .colab-df-convert:hover {\n",
              "      background-color: #E2EBFA;\n",
              "      box-shadow: 0px 1px 2px rgba(60, 64, 67, 0.3), 0px 1px 3px 1px rgba(60, 64, 67, 0.15);\n",
              "      fill: #174EA6;\n",
              "    }\n",
              "\n",
              "    [theme=dark] .colab-df-convert {\n",
              "      background-color: #3B4455;\n",
              "      fill: #D2E3FC;\n",
              "    }\n",
              "\n",
              "    [theme=dark] .colab-df-convert:hover {\n",
              "      background-color: #434B5C;\n",
              "      box-shadow: 0px 1px 3px 1px rgba(0, 0, 0, 0.15);\n",
              "      filter: drop-shadow(0px 1px 2px rgba(0, 0, 0, 0.3));\n",
              "      fill: #FFFFFF;\n",
              "    }\n",
              "  </style>\n",
              "\n",
              "      <script>\n",
              "        const buttonEl =\n",
              "          document.querySelector('#df-c1384744-1eef-4406-b558-9c936b40729e button.colab-df-convert');\n",
              "        buttonEl.style.display =\n",
              "          google.colab.kernel.accessAllowed ? 'block' : 'none';\n",
              "\n",
              "        async function convertToInteractive(key) {\n",
              "          const element = document.querySelector('#df-c1384744-1eef-4406-b558-9c936b40729e');\n",
              "          const dataTable =\n",
              "            await google.colab.kernel.invokeFunction('convertToInteractive',\n",
              "                                                     [key], {});\n",
              "          if (!dataTable) return;\n",
              "\n",
              "          const docLinkHtml = 'Like what you see? Visit the ' +\n",
              "            '<a target=\"_blank\" href=https://colab.research.google.com/notebooks/data_table.ipynb>data table notebook</a>'\n",
              "            + ' to learn more about interactive tables.';\n",
              "          element.innerHTML = '';\n",
              "          dataTable['output_type'] = 'display_data';\n",
              "          await google.colab.output.renderOutput(dataTable, element);\n",
              "          const docLink = document.createElement('div');\n",
              "          docLink.innerHTML = docLinkHtml;\n",
              "          element.appendChild(docLink);\n",
              "        }\n",
              "      </script>\n",
              "    </div>\n",
              "  </div>\n",
              "  "
            ]
          },
          "metadata": {},
          "execution_count": 24
        }
      ]
    },
    {
      "cell_type": "code",
      "source": [
        "#x = df.loc[(df['SG #'].isin([221, 225, 216, 166, 156, 187, 139, 227, 62, 194, 14]))]\n",
        "# Feature based on choice\n",
        "x2 = x_tmp[['Coefficient 1', 'Coefficient 2', 'Coefficient 3', 'A IonicRadius', 'B IonicRadius', 'C IonicRadius', \n",
        "        'Oxidation 1', 'Oxidation 2', 'Oxidation 3', 'A IonizationPot1st', 'B IonizationPot1st', 'C IonizationPot1st']]\n",
        "# initiaing the target\n",
        "y = x_tmp['SG #']"
      ],
      "metadata": {
        "id": "QZ0FtHUZuvhi"
      },
      "execution_count": 11,
      "outputs": []
    },
    {
      "cell_type": "code",
      "source": [
        "X_train, X_test, y_train, y_test = train_test_split(\n",
        "    x2, y, train_size=0.7, shuffle=True, random_state=123)"
      ],
      "metadata": {
        "id": "pgPyCVKguz7u"
      },
      "execution_count": 12,
      "outputs": []
    },
    {
      "cell_type": "code",
      "source": [
        "x2.describe()"
      ],
      "metadata": {
        "colab": {
          "base_uri": "https://localhost:8080/",
          "height": 362
        },
        "id": "j0YCHqmV4cCL",
        "outputId": "cecabab3-de14-4c7b-9cab-7c57ba55bf0b"
      },
      "execution_count": 16,
      "outputs": [
        {
          "output_type": "execute_result",
          "data": {
            "text/plain": [
              "       Coefficient 1  Coefficient 2  Coefficient 3  A IonicRadius  \\\n",
              "count  181054.000000  181054.000000  181054.000000  181054.000000   \n",
              "mean        1.589471       1.410883       1.803158       0.887039   \n",
              "std         1.044767       0.846623       1.261257       0.462845   \n",
              "min         1.000000       1.000000       1.000000       0.160000   \n",
              "25%         1.000000       1.000000       1.000000       0.580000   \n",
              "50%         1.000000       1.000000       1.000000       0.730000   \n",
              "75%         2.000000       1.000000       3.000000       1.150000   \n",
              "max        19.000000      10.000000      33.000000       2.200000   \n",
              "\n",
              "       B IonicRadius  C IonicRadius    Oxidation 1    Oxidation 2  \\\n",
              "count  181054.000000  181054.000000  181054.000000  181054.000000   \n",
              "mean        0.828008       0.758978       2.161339      -0.028572   \n",
              "std         0.400128       0.367898       1.347820       1.888336   \n",
              "min         0.160000       0.170000       1.000000      -5.000000   \n",
              "25%         0.620000       0.590000       1.000000      -1.000000   \n",
              "50%         0.690000       0.640000       2.000000      -1.000000   \n",
              "75%         1.020000       0.840000       3.000000       1.000000   \n",
              "max         2.200000       2.200000       7.000000       7.000000   \n",
              "\n",
              "         Oxidation 3  A IonizationPot1st  B IonizationPot1st  \\\n",
              "count  181054.000000       181054.000000       181054.000000   \n",
              "mean       -1.751930            7.933087            7.816270   \n",
              "std         1.026318            2.140027            2.128748   \n",
              "min        -5.000000            3.893900            3.893900   \n",
              "25%        -2.000000            6.113200            6.758900   \n",
              "50%        -1.000000            7.646200            7.639800   \n",
              "75%        -1.000000            9.100000            8.700000   \n",
              "max        -1.000000           14.534100           17.422800   \n",
              "\n",
              "       C IonizationPot1st  \n",
              "count       181054.000000  \n",
              "mean             7.950483  \n",
              "std              1.709012  \n",
              "min              3.893900  \n",
              "25%              6.828200  \n",
              "50%              7.880000  \n",
              "75%              8.700000  \n",
              "max             17.422800  "
            ],
            "text/html": [
              "\n",
              "  <div id=\"df-1e3ca28e-64ee-4c86-a689-967bd8c772c8\">\n",
              "    <div class=\"colab-df-container\">\n",
              "      <div>\n",
              "<style scoped>\n",
              "    .dataframe tbody tr th:only-of-type {\n",
              "        vertical-align: middle;\n",
              "    }\n",
              "\n",
              "    .dataframe tbody tr th {\n",
              "        vertical-align: top;\n",
              "    }\n",
              "\n",
              "    .dataframe thead th {\n",
              "        text-align: right;\n",
              "    }\n",
              "</style>\n",
              "<table border=\"1\" class=\"dataframe\">\n",
              "  <thead>\n",
              "    <tr style=\"text-align: right;\">\n",
              "      <th></th>\n",
              "      <th>Coefficient 1</th>\n",
              "      <th>Coefficient 2</th>\n",
              "      <th>Coefficient 3</th>\n",
              "      <th>A IonicRadius</th>\n",
              "      <th>B IonicRadius</th>\n",
              "      <th>C IonicRadius</th>\n",
              "      <th>Oxidation 1</th>\n",
              "      <th>Oxidation 2</th>\n",
              "      <th>Oxidation 3</th>\n",
              "      <th>A IonizationPot1st</th>\n",
              "      <th>B IonizationPot1st</th>\n",
              "      <th>C IonizationPot1st</th>\n",
              "    </tr>\n",
              "  </thead>\n",
              "  <tbody>\n",
              "    <tr>\n",
              "      <th>count</th>\n",
              "      <td>181054.000000</td>\n",
              "      <td>181054.000000</td>\n",
              "      <td>181054.000000</td>\n",
              "      <td>181054.000000</td>\n",
              "      <td>181054.000000</td>\n",
              "      <td>181054.000000</td>\n",
              "      <td>181054.000000</td>\n",
              "      <td>181054.000000</td>\n",
              "      <td>181054.000000</td>\n",
              "      <td>181054.000000</td>\n",
              "      <td>181054.000000</td>\n",
              "      <td>181054.000000</td>\n",
              "    </tr>\n",
              "    <tr>\n",
              "      <th>mean</th>\n",
              "      <td>1.589471</td>\n",
              "      <td>1.410883</td>\n",
              "      <td>1.803158</td>\n",
              "      <td>0.887039</td>\n",
              "      <td>0.828008</td>\n",
              "      <td>0.758978</td>\n",
              "      <td>2.161339</td>\n",
              "      <td>-0.028572</td>\n",
              "      <td>-1.751930</td>\n",
              "      <td>7.933087</td>\n",
              "      <td>7.816270</td>\n",
              "      <td>7.950483</td>\n",
              "    </tr>\n",
              "    <tr>\n",
              "      <th>std</th>\n",
              "      <td>1.044767</td>\n",
              "      <td>0.846623</td>\n",
              "      <td>1.261257</td>\n",
              "      <td>0.462845</td>\n",
              "      <td>0.400128</td>\n",
              "      <td>0.367898</td>\n",
              "      <td>1.347820</td>\n",
              "      <td>1.888336</td>\n",
              "      <td>1.026318</td>\n",
              "      <td>2.140027</td>\n",
              "      <td>2.128748</td>\n",
              "      <td>1.709012</td>\n",
              "    </tr>\n",
              "    <tr>\n",
              "      <th>min</th>\n",
              "      <td>1.000000</td>\n",
              "      <td>1.000000</td>\n",
              "      <td>1.000000</td>\n",
              "      <td>0.160000</td>\n",
              "      <td>0.160000</td>\n",
              "      <td>0.170000</td>\n",
              "      <td>1.000000</td>\n",
              "      <td>-5.000000</td>\n",
              "      <td>-5.000000</td>\n",
              "      <td>3.893900</td>\n",
              "      <td>3.893900</td>\n",
              "      <td>3.893900</td>\n",
              "    </tr>\n",
              "    <tr>\n",
              "      <th>25%</th>\n",
              "      <td>1.000000</td>\n",
              "      <td>1.000000</td>\n",
              "      <td>1.000000</td>\n",
              "      <td>0.580000</td>\n",
              "      <td>0.620000</td>\n",
              "      <td>0.590000</td>\n",
              "      <td>1.000000</td>\n",
              "      <td>-1.000000</td>\n",
              "      <td>-2.000000</td>\n",
              "      <td>6.113200</td>\n",
              "      <td>6.758900</td>\n",
              "      <td>6.828200</td>\n",
              "    </tr>\n",
              "    <tr>\n",
              "      <th>50%</th>\n",
              "      <td>1.000000</td>\n",
              "      <td>1.000000</td>\n",
              "      <td>1.000000</td>\n",
              "      <td>0.730000</td>\n",
              "      <td>0.690000</td>\n",
              "      <td>0.640000</td>\n",
              "      <td>2.000000</td>\n",
              "      <td>-1.000000</td>\n",
              "      <td>-1.000000</td>\n",
              "      <td>7.646200</td>\n",
              "      <td>7.639800</td>\n",
              "      <td>7.880000</td>\n",
              "    </tr>\n",
              "    <tr>\n",
              "      <th>75%</th>\n",
              "      <td>2.000000</td>\n",
              "      <td>1.000000</td>\n",
              "      <td>3.000000</td>\n",
              "      <td>1.150000</td>\n",
              "      <td>1.020000</td>\n",
              "      <td>0.840000</td>\n",
              "      <td>3.000000</td>\n",
              "      <td>1.000000</td>\n",
              "      <td>-1.000000</td>\n",
              "      <td>9.100000</td>\n",
              "      <td>8.700000</td>\n",
              "      <td>8.700000</td>\n",
              "    </tr>\n",
              "    <tr>\n",
              "      <th>max</th>\n",
              "      <td>19.000000</td>\n",
              "      <td>10.000000</td>\n",
              "      <td>33.000000</td>\n",
              "      <td>2.200000</td>\n",
              "      <td>2.200000</td>\n",
              "      <td>2.200000</td>\n",
              "      <td>7.000000</td>\n",
              "      <td>7.000000</td>\n",
              "      <td>-1.000000</td>\n",
              "      <td>14.534100</td>\n",
              "      <td>17.422800</td>\n",
              "      <td>17.422800</td>\n",
              "    </tr>\n",
              "  </tbody>\n",
              "</table>\n",
              "</div>\n",
              "      <button class=\"colab-df-convert\" onclick=\"convertToInteractive('df-1e3ca28e-64ee-4c86-a689-967bd8c772c8')\"\n",
              "              title=\"Convert this dataframe to an interactive table.\"\n",
              "              style=\"display:none;\">\n",
              "        \n",
              "  <svg xmlns=\"http://www.w3.org/2000/svg\" height=\"24px\"viewBox=\"0 0 24 24\"\n",
              "       width=\"24px\">\n",
              "    <path d=\"M0 0h24v24H0V0z\" fill=\"none\"/>\n",
              "    <path d=\"M18.56 5.44l.94 2.06.94-2.06 2.06-.94-2.06-.94-.94-2.06-.94 2.06-2.06.94zm-11 1L8.5 8.5l.94-2.06 2.06-.94-2.06-.94L8.5 2.5l-.94 2.06-2.06.94zm10 10l.94 2.06.94-2.06 2.06-.94-2.06-.94-.94-2.06-.94 2.06-2.06.94z\"/><path d=\"M17.41 7.96l-1.37-1.37c-.4-.4-.92-.59-1.43-.59-.52 0-1.04.2-1.43.59L10.3 9.45l-7.72 7.72c-.78.78-.78 2.05 0 2.83L4 21.41c.39.39.9.59 1.41.59.51 0 1.02-.2 1.41-.59l7.78-7.78 2.81-2.81c.8-.78.8-2.07 0-2.86zM5.41 20L4 18.59l7.72-7.72 1.47 1.35L5.41 20z\"/>\n",
              "  </svg>\n",
              "      </button>\n",
              "      \n",
              "  <style>\n",
              "    .colab-df-container {\n",
              "      display:flex;\n",
              "      flex-wrap:wrap;\n",
              "      gap: 12px;\n",
              "    }\n",
              "\n",
              "    .colab-df-convert {\n",
              "      background-color: #E8F0FE;\n",
              "      border: none;\n",
              "      border-radius: 50%;\n",
              "      cursor: pointer;\n",
              "      display: none;\n",
              "      fill: #1967D2;\n",
              "      height: 32px;\n",
              "      padding: 0 0 0 0;\n",
              "      width: 32px;\n",
              "    }\n",
              "\n",
              "    .colab-df-convert:hover {\n",
              "      background-color: #E2EBFA;\n",
              "      box-shadow: 0px 1px 2px rgba(60, 64, 67, 0.3), 0px 1px 3px 1px rgba(60, 64, 67, 0.15);\n",
              "      fill: #174EA6;\n",
              "    }\n",
              "\n",
              "    [theme=dark] .colab-df-convert {\n",
              "      background-color: #3B4455;\n",
              "      fill: #D2E3FC;\n",
              "    }\n",
              "\n",
              "    [theme=dark] .colab-df-convert:hover {\n",
              "      background-color: #434B5C;\n",
              "      box-shadow: 0px 1px 3px 1px rgba(0, 0, 0, 0.15);\n",
              "      filter: drop-shadow(0px 1px 2px rgba(0, 0, 0, 0.3));\n",
              "      fill: #FFFFFF;\n",
              "    }\n",
              "  </style>\n",
              "\n",
              "      <script>\n",
              "        const buttonEl =\n",
              "          document.querySelector('#df-1e3ca28e-64ee-4c86-a689-967bd8c772c8 button.colab-df-convert');\n",
              "        buttonEl.style.display =\n",
              "          google.colab.kernel.accessAllowed ? 'block' : 'none';\n",
              "\n",
              "        async function convertToInteractive(key) {\n",
              "          const element = document.querySelector('#df-1e3ca28e-64ee-4c86-a689-967bd8c772c8');\n",
              "          const dataTable =\n",
              "            await google.colab.kernel.invokeFunction('convertToInteractive',\n",
              "                                                     [key], {});\n",
              "          if (!dataTable) return;\n",
              "\n",
              "          const docLinkHtml = 'Like what you see? Visit the ' +\n",
              "            '<a target=\"_blank\" href=https://colab.research.google.com/notebooks/data_table.ipynb>data table notebook</a>'\n",
              "            + ' to learn more about interactive tables.';\n",
              "          element.innerHTML = '';\n",
              "          dataTable['output_type'] = 'display_data';\n",
              "          await google.colab.output.renderOutput(dataTable, element);\n",
              "          const docLink = document.createElement('div');\n",
              "          docLink.innerHTML = docLinkHtml;\n",
              "          element.appendChild(docLink);\n",
              "        }\n",
              "      </script>\n",
              "    </div>\n",
              "  </div>\n",
              "  "
            ]
          },
          "metadata": {},
          "execution_count": 16
        }
      ]
    },
    {
      "cell_type": "markdown",
      "source": [
        "# Logistic Regression Classifier"
      ],
      "metadata": {
        "id": "P0ZotElrwaWV"
      }
    },
    {
      "cell_type": "markdown",
      "source": [
        "## Default Model"
      ],
      "metadata": {
        "id": "cfAuUsEYwkqo"
      }
    },
    {
      "cell_type": "code",
      "source": [
        "# create Logisitc Model\n",
        "log_model = LogisticRegression(\n",
        "    max_iter=200,\n",
        "    verbose=True,\n",
        ")\n",
        "\n",
        "result = log_model.fit(X_train, y_train)"
      ],
      "metadata": {
        "colab": {
          "base_uri": "https://localhost:8080/"
        },
        "id": "u0-bjBElwQw4",
        "outputId": "8ac40277-6fa1-4bcf-e69b-03edd0a64d50"
      },
      "execution_count": 16,
      "outputs": [
        {
          "output_type": "stream",
          "name": "stderr",
          "text": [
            "[Parallel(n_jobs=1)]: Using backend SequentialBackend with 1 concurrent workers.\n",
            "/usr/local/lib/python3.7/dist-packages/sklearn/linear_model/_logistic.py:812: ConvergenceWarning: lbfgs failed to converge (status=1):\n",
            "STOP: TOTAL NO. of ITERATIONS REACHED LIMIT.\n",
            "\n",
            "Increase the number of iterations (max_iter) or scale the data as shown in:\n",
            "    https://scikit-learn.org/stable/modules/preprocessing.html\n",
            "Please also refer to the documentation for alternative solver options:\n",
            "    https://scikit-learn.org/stable/modules/linear_model.html#logistic-regression\n",
            "  options={\"iprint\": iprint, \"gtol\": tol, \"maxiter\": max_iter},\n",
            "[Parallel(n_jobs=1)]: Done   1 out of   1 | elapsed:   40.0s finished\n"
          ]
        }
      ]
    },
    {
      "cell_type": "markdown",
      "source": [
        "### Deployment"
      ],
      "metadata": {
        "id": "ljikZtRKwyrv"
      }
    },
    {
      "cell_type": "code",
      "source": [
        "from sklearn.metrics import classification_report, make_scorer, accuracy_score\n",
        "\n",
        "y_pred_train = log_model.predict(X_train)\n",
        "y_pred_test = log_model.predict(X_test)\n",
        "\n",
        "print(classification_report(y_test, y_pred_test))"
      ],
      "metadata": {
        "colab": {
          "base_uri": "https://localhost:8080/"
        },
        "id": "qfpFWvP3pJ4_",
        "outputId": "45121414-8a91-4cf7-b499-e37118f47dde"
      },
      "execution_count": 17,
      "outputs": [
        {
          "output_type": "stream",
          "name": "stdout",
          "text": [
            "              precision    recall  f1-score   support\n",
            "\n",
            "          14       0.00      0.00      0.00       145\n",
            "          62       0.00      0.00      0.00       266\n",
            "         139       0.00      0.00      0.00       969\n",
            "         156       0.50      0.64      0.56      3275\n",
            "         166       0.44      0.03      0.06      4902\n",
            "         187       0.10      0.02      0.03      1672\n",
            "         194       0.00      0.00      0.00       216\n",
            "         216       0.65      0.50      0.57      9445\n",
            "         221       0.77      0.91      0.83     19051\n",
            "         225       0.61      0.96      0.75     11994\n",
            "         227       0.58      0.12      0.20       365\n",
            "         555       0.71      0.34      0.46      2017\n",
            "\n",
            "    accuracy                           0.67     54317\n",
            "   macro avg       0.36      0.29      0.29     54317\n",
            "weighted avg       0.62      0.67      0.61     54317\n",
            "\n"
          ]
        },
        {
          "output_type": "stream",
          "name": "stderr",
          "text": [
            "/usr/local/lib/python3.7/dist-packages/sklearn/metrics/_classification.py:1318: UndefinedMetricWarning: Precision and F-score are ill-defined and being set to 0.0 in labels with no predicted samples. Use `zero_division` parameter to control this behavior.\n",
            "  _warn_prf(average, modifier, msg_start, len(result))\n",
            "/usr/local/lib/python3.7/dist-packages/sklearn/metrics/_classification.py:1318: UndefinedMetricWarning: Precision and F-score are ill-defined and being set to 0.0 in labels with no predicted samples. Use `zero_division` parameter to control this behavior.\n",
            "  _warn_prf(average, modifier, msg_start, len(result))\n",
            "/usr/local/lib/python3.7/dist-packages/sklearn/metrics/_classification.py:1318: UndefinedMetricWarning: Precision and F-score are ill-defined and being set to 0.0 in labels with no predicted samples. Use `zero_division` parameter to control this behavior.\n",
            "  _warn_prf(average, modifier, msg_start, len(result))\n"
          ]
        }
      ]
    },
    {
      "cell_type": "markdown",
      "source": [
        "## Tuning"
      ],
      "metadata": {
        "id": "RAUsvX3Awpjt"
      }
    },
    {
      "cell_type": "code",
      "source": [
        "# create Logisitc Model\n",
        "log_cv = LogisticRegressionCV(\n",
        "    cv=5,\n",
        "    solver=\"saga\",\n",
        "    scoring=\"accuracy\",\n",
        "    n_jobs=10,\n",
        "    verbose=True,\n",
        "    max_iter=100,\n",
        ")\n",
        "\n",
        "# train\n",
        "results = log_cv.fit(X_train, y_train)"
      ],
      "metadata": {
        "colab": {
          "base_uri": "https://localhost:8080/"
        },
        "id": "3C6qtoUXwpI4",
        "outputId": "ad419b66-249a-4fae-b6df-3f8bd0b6cada"
      },
      "execution_count": 19,
      "outputs": [
        {
          "output_type": "stream",
          "name": "stderr",
          "text": [
            "[Parallel(n_jobs=10)]: Using backend ThreadingBackend with 10 concurrent workers.\n"
          ]
        },
        {
          "output_type": "stream",
          "name": "stdout",
          "text": [
            "max_iter reached after 84 seconds\n"
          ]
        },
        {
          "output_type": "stream",
          "name": "stderr",
          "text": [
            "/usr/local/lib/python3.7/dist-packages/sklearn/linear_model/_sag.py:348: ConvergenceWarning: The max_iter was reached which means the coef_ did not converge\n",
            "  verbose,\n"
          ]
        },
        {
          "output_type": "stream",
          "name": "stdout",
          "text": [
            "max_iter reached after 88 seconds\n"
          ]
        },
        {
          "output_type": "stream",
          "name": "stderr",
          "text": [
            "/usr/local/lib/python3.7/dist-packages/sklearn/linear_model/_sag.py:348: ConvergenceWarning: The max_iter was reached which means the coef_ did not converge\n",
            "  verbose,\n"
          ]
        },
        {
          "output_type": "stream",
          "name": "stdout",
          "text": [
            "max_iter reached after 110 seconds\n",
            "max_iter reached after 111 seconds\n"
          ]
        },
        {
          "output_type": "stream",
          "name": "stderr",
          "text": [
            "/usr/local/lib/python3.7/dist-packages/sklearn/linear_model/_sag.py:348: ConvergenceWarning: The max_iter was reached which means the coef_ did not converge\n",
            "  verbose,\n",
            "/usr/local/lib/python3.7/dist-packages/sklearn/linear_model/_sag.py:348: ConvergenceWarning: The max_iter was reached which means the coef_ did not converge\n",
            "  verbose,\n"
          ]
        },
        {
          "output_type": "stream",
          "name": "stdout",
          "text": [
            "max_iter reached after 112 seconds\n",
            "max_iter reached after 112 seconds\n",
            "max_iter reached after 112 seconds\n"
          ]
        },
        {
          "output_type": "stream",
          "name": "stderr",
          "text": [
            "/usr/local/lib/python3.7/dist-packages/sklearn/linear_model/_sag.py:348: ConvergenceWarning: The max_iter was reached which means the coef_ did not converge\n",
            "  verbose,\n",
            "/usr/local/lib/python3.7/dist-packages/sklearn/linear_model/_sag.py:348: ConvergenceWarning: The max_iter was reached which means the coef_ did not converge\n",
            "  verbose,\n",
            "/usr/local/lib/python3.7/dist-packages/sklearn/linear_model/_sag.py:348: ConvergenceWarning: The max_iter was reached which means the coef_ did not converge\n",
            "  verbose,\n"
          ]
        },
        {
          "output_type": "stream",
          "name": "stdout",
          "text": [
            "max_iter reached after 107 seconds\n"
          ]
        },
        {
          "output_type": "stream",
          "name": "stderr",
          "text": [
            "/usr/local/lib/python3.7/dist-packages/sklearn/linear_model/_sag.py:348: ConvergenceWarning: The max_iter was reached which means the coef_ did not converge\n",
            "  verbose,\n"
          ]
        },
        {
          "output_type": "stream",
          "name": "stdout",
          "text": [
            "max_iter reached after 107 seconds\n"
          ]
        },
        {
          "output_type": "stream",
          "name": "stderr",
          "text": [
            "/usr/local/lib/python3.7/dist-packages/sklearn/linear_model/_sag.py:348: ConvergenceWarning: The max_iter was reached which means the coef_ did not converge\n",
            "  verbose,\n"
          ]
        },
        {
          "output_type": "stream",
          "name": "stdout",
          "text": [
            "max_iter reached after 110 seconds\n"
          ]
        },
        {
          "output_type": "stream",
          "name": "stderr",
          "text": [
            "/usr/local/lib/python3.7/dist-packages/sklearn/linear_model/_sag.py:348: ConvergenceWarning: The max_iter was reached which means the coef_ did not converge\n",
            "  verbose,\n"
          ]
        },
        {
          "output_type": "stream",
          "name": "stdout",
          "text": [
            "max_iter reached after 110 seconds\n",
            "max_iter reached after 110 seconds\n",
            "max_iter reached after 110 seconds\n"
          ]
        },
        {
          "output_type": "stream",
          "name": "stderr",
          "text": [
            "/usr/local/lib/python3.7/dist-packages/sklearn/linear_model/_sag.py:348: ConvergenceWarning: The max_iter was reached which means the coef_ did not converge\n",
            "  verbose,\n",
            "/usr/local/lib/python3.7/dist-packages/sklearn/linear_model/_sag.py:348: ConvergenceWarning: The max_iter was reached which means the coef_ did not converge\n",
            "  verbose,\n",
            "/usr/local/lib/python3.7/dist-packages/sklearn/linear_model/_sag.py:348: ConvergenceWarning: The max_iter was reached which means the coef_ did not converge\n",
            "  verbose,\n"
          ]
        },
        {
          "output_type": "stream",
          "name": "stdout",
          "text": [
            "max_iter reached after 111 seconds\n"
          ]
        },
        {
          "output_type": "stream",
          "name": "stderr",
          "text": [
            "/usr/local/lib/python3.7/dist-packages/sklearn/linear_model/_sag.py:348: ConvergenceWarning: The max_iter was reached which means the coef_ did not converge\n",
            "  verbose,\n"
          ]
        },
        {
          "output_type": "stream",
          "name": "stdout",
          "text": [
            "max_iter reached after 108 seconds\n"
          ]
        },
        {
          "output_type": "stream",
          "name": "stderr",
          "text": [
            "/usr/local/lib/python3.7/dist-packages/sklearn/linear_model/_sag.py:348: ConvergenceWarning: The max_iter was reached which means the coef_ did not converge\n",
            "  verbose,\n"
          ]
        },
        {
          "output_type": "stream",
          "name": "stdout",
          "text": [
            "max_iter reached after 106 seconds\n"
          ]
        },
        {
          "output_type": "stream",
          "name": "stderr",
          "text": [
            "/usr/local/lib/python3.7/dist-packages/sklearn/linear_model/_sag.py:348: ConvergenceWarning: The max_iter was reached which means the coef_ did not converge\n",
            "  verbose,\n"
          ]
        },
        {
          "output_type": "stream",
          "name": "stdout",
          "text": [
            "max_iter reached after 110 seconds\n",
            "max_iter reached after 110 seconds\n"
          ]
        },
        {
          "output_type": "stream",
          "name": "stderr",
          "text": [
            "/usr/local/lib/python3.7/dist-packages/sklearn/linear_model/_sag.py:348: ConvergenceWarning: The max_iter was reached which means the coef_ did not converge\n",
            "  verbose,\n",
            "/usr/local/lib/python3.7/dist-packages/sklearn/linear_model/_sag.py:348: ConvergenceWarning: The max_iter was reached which means the coef_ did not converge\n",
            "  verbose,\n"
          ]
        },
        {
          "output_type": "stream",
          "name": "stdout",
          "text": [
            "max_iter reached after 110 seconds\n",
            "max_iter reached after 109 seconds\n"
          ]
        },
        {
          "output_type": "stream",
          "name": "stderr",
          "text": [
            "/usr/local/lib/python3.7/dist-packages/sklearn/linear_model/_sag.py:348: ConvergenceWarning: The max_iter was reached which means the coef_ did not converge\n",
            "  verbose,\n",
            "/usr/local/lib/python3.7/dist-packages/sklearn/linear_model/_sag.py:348: ConvergenceWarning: The max_iter was reached which means the coef_ did not converge\n",
            "  verbose,\n"
          ]
        },
        {
          "output_type": "stream",
          "name": "stdout",
          "text": [
            "max_iter reached after 110 seconds\n",
            "max_iter reached after 107 seconds\n"
          ]
        },
        {
          "output_type": "stream",
          "name": "stderr",
          "text": [
            "/usr/local/lib/python3.7/dist-packages/sklearn/linear_model/_sag.py:348: ConvergenceWarning: The max_iter was reached which means the coef_ did not converge\n",
            "  verbose,\n",
            "/usr/local/lib/python3.7/dist-packages/sklearn/linear_model/_sag.py:348: ConvergenceWarning: The max_iter was reached which means the coef_ did not converge\n",
            "  verbose,\n"
          ]
        },
        {
          "output_type": "stream",
          "name": "stdout",
          "text": [
            "max_iter reached after 107 seconds\n"
          ]
        },
        {
          "output_type": "stream",
          "name": "stderr",
          "text": [
            "/usr/local/lib/python3.7/dist-packages/sklearn/linear_model/_sag.py:348: ConvergenceWarning: The max_iter was reached which means the coef_ did not converge\n",
            "  verbose,\n"
          ]
        },
        {
          "output_type": "stream",
          "name": "stdout",
          "text": [
            "max_iter reached after 110 seconds\n"
          ]
        },
        {
          "output_type": "stream",
          "name": "stderr",
          "text": [
            "/usr/local/lib/python3.7/dist-packages/sklearn/linear_model/_sag.py:348: ConvergenceWarning: The max_iter was reached which means the coef_ did not converge\n",
            "  verbose,\n"
          ]
        },
        {
          "output_type": "stream",
          "name": "stdout",
          "text": [
            "max_iter reached after 109 seconds\n",
            "max_iter reached after 110 seconds\n",
            "max_iter reached after 109 seconds\n"
          ]
        },
        {
          "output_type": "stream",
          "name": "stderr",
          "text": [
            "/usr/local/lib/python3.7/dist-packages/sklearn/linear_model/_sag.py:348: ConvergenceWarning: The max_iter was reached which means the coef_ did not converge\n",
            "  verbose,\n",
            "/usr/local/lib/python3.7/dist-packages/sklearn/linear_model/_sag.py:348: ConvergenceWarning: The max_iter was reached which means the coef_ did not converge\n",
            "  verbose,\n",
            "/usr/local/lib/python3.7/dist-packages/sklearn/linear_model/_sag.py:348: ConvergenceWarning: The max_iter was reached which means the coef_ did not converge\n",
            "  verbose,\n"
          ]
        },
        {
          "output_type": "stream",
          "name": "stdout",
          "text": [
            "max_iter reached after 111 seconds\n"
          ]
        },
        {
          "output_type": "stream",
          "name": "stderr",
          "text": [
            "/usr/local/lib/python3.7/dist-packages/sklearn/linear_model/_sag.py:348: ConvergenceWarning: The max_iter was reached which means the coef_ did not converge\n",
            "  verbose,\n"
          ]
        },
        {
          "output_type": "stream",
          "name": "stdout",
          "text": [
            "max_iter reached after 107 seconds\n"
          ]
        },
        {
          "output_type": "stream",
          "name": "stderr",
          "text": [
            "/usr/local/lib/python3.7/dist-packages/sklearn/linear_model/_sag.py:348: ConvergenceWarning: The max_iter was reached which means the coef_ did not converge\n",
            "  verbose,\n"
          ]
        },
        {
          "output_type": "stream",
          "name": "stdout",
          "text": [
            "max_iter reached after 107 seconds\n"
          ]
        },
        {
          "output_type": "stream",
          "name": "stderr",
          "text": [
            "/usr/local/lib/python3.7/dist-packages/sklearn/linear_model/_sag.py:348: ConvergenceWarning: The max_iter was reached which means the coef_ did not converge\n",
            "  verbose,\n"
          ]
        },
        {
          "output_type": "stream",
          "name": "stdout",
          "text": [
            "max_iter reached after 109 seconds\n"
          ]
        },
        {
          "output_type": "stream",
          "name": "stderr",
          "text": [
            "/usr/local/lib/python3.7/dist-packages/sklearn/linear_model/_sag.py:348: ConvergenceWarning: The max_iter was reached which means the coef_ did not converge\n",
            "  verbose,\n"
          ]
        },
        {
          "output_type": "stream",
          "name": "stdout",
          "text": [
            "max_iter reached after 110 seconds\n",
            "max_iter reached after 110 seconds\n",
            "max_iter reached after 111 seconds\n"
          ]
        },
        {
          "output_type": "stream",
          "name": "stderr",
          "text": [
            "/usr/local/lib/python3.7/dist-packages/sklearn/linear_model/_sag.py:348: ConvergenceWarning: The max_iter was reached which means the coef_ did not converge\n",
            "  verbose,\n",
            "/usr/local/lib/python3.7/dist-packages/sklearn/linear_model/_sag.py:348: ConvergenceWarning: The max_iter was reached which means the coef_ did not converge\n",
            "  verbose,\n",
            "/usr/local/lib/python3.7/dist-packages/sklearn/linear_model/_sag.py:348: ConvergenceWarning: The max_iter was reached which means the coef_ did not converge\n",
            "  verbose,\n"
          ]
        },
        {
          "output_type": "stream",
          "name": "stdout",
          "text": [
            "max_iter reached after 110 seconds\n",
            "convergence after 94 epochs took 101 seconds\n",
            "max_iter reached after 107 seconds\n"
          ]
        },
        {
          "output_type": "stream",
          "name": "stderr",
          "text": [
            "/usr/local/lib/python3.7/dist-packages/sklearn/linear_model/_sag.py:348: ConvergenceWarning: The max_iter was reached which means the coef_ did not converge\n",
            "  verbose,\n",
            "/usr/local/lib/python3.7/dist-packages/sklearn/linear_model/_sag.py:348: ConvergenceWarning: The max_iter was reached which means the coef_ did not converge\n",
            "  verbose,\n"
          ]
        },
        {
          "output_type": "stream",
          "name": "stdout",
          "text": [
            "max_iter reached after 95 seconds\n",
            "max_iter reached after 96 seconds\n"
          ]
        },
        {
          "output_type": "stream",
          "name": "stderr",
          "text": [
            "/usr/local/lib/python3.7/dist-packages/sklearn/linear_model/_sag.py:348: ConvergenceWarning: The max_iter was reached which means the coef_ did not converge\n",
            "  verbose,\n",
            "/usr/local/lib/python3.7/dist-packages/sklearn/linear_model/_sag.py:348: ConvergenceWarning: The max_iter was reached which means the coef_ did not converge\n",
            "  verbose,\n"
          ]
        },
        {
          "output_type": "stream",
          "name": "stdout",
          "text": [
            "max_iter reached after 95 seconds\n",
            "max_iter reached after 96 seconds\n"
          ]
        },
        {
          "output_type": "stream",
          "name": "stderr",
          "text": [
            "/usr/local/lib/python3.7/dist-packages/sklearn/linear_model/_sag.py:348: ConvergenceWarning: The max_iter was reached which means the coef_ did not converge\n",
            "  verbose,\n",
            "/usr/local/lib/python3.7/dist-packages/sklearn/linear_model/_sag.py:348: ConvergenceWarning: The max_iter was reached which means the coef_ did not converge\n",
            "  verbose,\n"
          ]
        },
        {
          "output_type": "stream",
          "name": "stdout",
          "text": [
            "max_iter reached after 95 seconds\n"
          ]
        },
        {
          "output_type": "stream",
          "name": "stderr",
          "text": [
            "/usr/local/lib/python3.7/dist-packages/sklearn/linear_model/_sag.py:348: ConvergenceWarning: The max_iter was reached which means the coef_ did not converge\n",
            "  verbose,\n"
          ]
        },
        {
          "output_type": "stream",
          "name": "stdout",
          "text": [
            "max_iter reached after 78 seconds\n",
            "max_iter reached after 80 seconds\n"
          ]
        },
        {
          "output_type": "stream",
          "name": "stderr",
          "text": [
            "/usr/local/lib/python3.7/dist-packages/sklearn/linear_model/_sag.py:348: ConvergenceWarning: The max_iter was reached which means the coef_ did not converge\n",
            "  verbose,\n",
            "/usr/local/lib/python3.7/dist-packages/sklearn/linear_model/_sag.py:348: ConvergenceWarning: The max_iter was reached which means the coef_ did not converge\n",
            "  verbose,\n"
          ]
        },
        {
          "output_type": "stream",
          "name": "stdout",
          "text": [
            "max_iter reached after 79 seconds\n"
          ]
        },
        {
          "output_type": "stream",
          "name": "stderr",
          "text": [
            "/usr/local/lib/python3.7/dist-packages/sklearn/linear_model/_sag.py:348: ConvergenceWarning: The max_iter was reached which means the coef_ did not converge\n",
            "  verbose,\n"
          ]
        },
        {
          "output_type": "stream",
          "name": "stdout",
          "text": [
            "max_iter reached after 80 seconds\n",
            "max_iter reached after 79 seconds\n"
          ]
        },
        {
          "output_type": "stream",
          "name": "stderr",
          "text": [
            "/usr/local/lib/python3.7/dist-packages/sklearn/linear_model/_sag.py:348: ConvergenceWarning: The max_iter was reached which means the coef_ did not converge\n",
            "  verbose,\n",
            "/usr/local/lib/python3.7/dist-packages/sklearn/linear_model/_sag.py:348: ConvergenceWarning: The max_iter was reached which means the coef_ did not converge\n",
            "  verbose,\n"
          ]
        },
        {
          "output_type": "stream",
          "name": "stdout",
          "text": [
            "max_iter reached after 78 seconds\n",
            "max_iter reached after 78 seconds\n"
          ]
        },
        {
          "output_type": "stream",
          "name": "stderr",
          "text": [
            "/usr/local/lib/python3.7/dist-packages/sklearn/linear_model/_sag.py:348: ConvergenceWarning: The max_iter was reached which means the coef_ did not converge\n",
            "  verbose,\n",
            "/usr/local/lib/python3.7/dist-packages/sklearn/linear_model/_sag.py:348: ConvergenceWarning: The max_iter was reached which means the coef_ did not converge\n",
            "  verbose,\n"
          ]
        },
        {
          "output_type": "stream",
          "name": "stdout",
          "text": [
            "max_iter reached after 79 seconds\n"
          ]
        },
        {
          "output_type": "stream",
          "name": "stderr",
          "text": [
            "/usr/local/lib/python3.7/dist-packages/sklearn/linear_model/_sag.py:348: ConvergenceWarning: The max_iter was reached which means the coef_ did not converge\n",
            "  verbose,\n"
          ]
        },
        {
          "output_type": "stream",
          "name": "stdout",
          "text": [
            "max_iter reached after 79 seconds\n",
            "max_iter reached after 79 seconds\n"
          ]
        },
        {
          "output_type": "stream",
          "name": "stderr",
          "text": [
            "/usr/local/lib/python3.7/dist-packages/sklearn/linear_model/_sag.py:348: ConvergenceWarning: The max_iter was reached which means the coef_ did not converge\n",
            "  verbose,\n",
            "/usr/local/lib/python3.7/dist-packages/sklearn/linear_model/_sag.py:348: ConvergenceWarning: The max_iter was reached which means the coef_ did not converge\n",
            "  verbose,\n"
          ]
        },
        {
          "output_type": "stream",
          "name": "stdout",
          "text": [
            "max_iter reached after 79 seconds\n"
          ]
        },
        {
          "output_type": "stream",
          "name": "stderr",
          "text": [
            "/usr/local/lib/python3.7/dist-packages/sklearn/linear_model/_sag.py:348: ConvergenceWarning: The max_iter was reached which means the coef_ did not converge\n",
            "  verbose,\n"
          ]
        },
        {
          "output_type": "stream",
          "name": "stdout",
          "text": [
            "max_iter reached after 78 seconds\n",
            "max_iter reached after 79 seconds\n"
          ]
        },
        {
          "output_type": "stream",
          "name": "stderr",
          "text": [
            "/usr/local/lib/python3.7/dist-packages/sklearn/linear_model/_sag.py:348: ConvergenceWarning: The max_iter was reached which means the coef_ did not converge\n",
            "  verbose,\n",
            "/usr/local/lib/python3.7/dist-packages/sklearn/linear_model/_sag.py:348: ConvergenceWarning: The max_iter was reached which means the coef_ did not converge\n",
            "  verbose,\n"
          ]
        },
        {
          "output_type": "stream",
          "name": "stdout",
          "text": [
            "max_iter reached after 79 seconds\n"
          ]
        },
        {
          "output_type": "stream",
          "name": "stderr",
          "text": [
            "/usr/local/lib/python3.7/dist-packages/sklearn/linear_model/_sag.py:348: ConvergenceWarning: The max_iter was reached which means the coef_ did not converge\n",
            "  verbose,\n"
          ]
        },
        {
          "output_type": "stream",
          "name": "stdout",
          "text": [
            "max_iter reached after 80 seconds\n"
          ]
        },
        {
          "output_type": "stream",
          "name": "stderr",
          "text": [
            "/usr/local/lib/python3.7/dist-packages/sklearn/linear_model/_sag.py:348: ConvergenceWarning: The max_iter was reached which means the coef_ did not converge\n",
            "  verbose,\n"
          ]
        },
        {
          "output_type": "stream",
          "name": "stdout",
          "text": [
            "convergence after 76 epochs took 60 seconds\n",
            "convergence after 94 epochs took 71 seconds\n",
            "max_iter reached after 75 seconds\n",
            "max_iter reached after 72 seconds\n",
            "max_iter reached after 73 seconds\n"
          ]
        },
        {
          "output_type": "stream",
          "name": "stderr",
          "text": [
            "/usr/local/lib/python3.7/dist-packages/sklearn/linear_model/_sag.py:348: ConvergenceWarning: The max_iter was reached which means the coef_ did not converge\n",
            "  verbose,\n",
            "/usr/local/lib/python3.7/dist-packages/sklearn/linear_model/_sag.py:348: ConvergenceWarning: The max_iter was reached which means the coef_ did not converge\n",
            "  verbose,\n",
            "/usr/local/lib/python3.7/dist-packages/sklearn/linear_model/_sag.py:348: ConvergenceWarning: The max_iter was reached which means the coef_ did not converge\n",
            "  verbose,\n",
            "[Parallel(n_jobs=10)]: Done   5 out of   5 | elapsed: 16.0min finished\n"
          ]
        }
      ]
    },
    {
      "cell_type": "code",
      "source": [
        "test_accuracy = result.score(X_test, y_test)\n",
        "train_accuracy = result.score(X_train, y_train)"
      ],
      "metadata": {
        "id": "LlI1nBcgtjjq"
      },
      "execution_count": 20,
      "outputs": []
    },
    {
      "cell_type": "code",
      "source": [
        "y_pred_train = log_model.predict(X_train)\n",
        "y_pred_test = log_model.predict(X_test)\n",
        "\n",
        "print(classification_report(y_test, y_pred_test))"
      ],
      "metadata": {
        "colab": {
          "base_uri": "https://localhost:8080/"
        },
        "id": "Xuug8uTS2rcl",
        "outputId": "79862417-28f0-4f58-ef2a-3294076fab84"
      },
      "execution_count": 22,
      "outputs": [
        {
          "output_type": "stream",
          "name": "stdout",
          "text": [
            "              precision    recall  f1-score   support\n",
            "\n",
            "          14       0.00      0.00      0.00       145\n",
            "          62       0.00      0.00      0.00       266\n",
            "         139       0.00      0.00      0.00       969\n",
            "         156       0.50      0.64      0.56      3275\n",
            "         166       0.44      0.03      0.06      4902\n",
            "         187       0.10      0.02      0.03      1672\n",
            "         194       0.00      0.00      0.00       216\n",
            "         216       0.65      0.50      0.57      9445\n",
            "         221       0.77      0.91      0.83     19051\n",
            "         225       0.61      0.96      0.75     11994\n",
            "         227       0.58      0.12      0.20       365\n",
            "         555       0.71      0.34      0.46      2017\n",
            "\n",
            "    accuracy                           0.67     54317\n",
            "   macro avg       0.36      0.29      0.29     54317\n",
            "weighted avg       0.62      0.67      0.61     54317\n",
            "\n"
          ]
        },
        {
          "output_type": "stream",
          "name": "stderr",
          "text": [
            "/usr/local/lib/python3.7/dist-packages/sklearn/metrics/_classification.py:1318: UndefinedMetricWarning: Precision and F-score are ill-defined and being set to 0.0 in labels with no predicted samples. Use `zero_division` parameter to control this behavior.\n",
            "  _warn_prf(average, modifier, msg_start, len(result))\n",
            "/usr/local/lib/python3.7/dist-packages/sklearn/metrics/_classification.py:1318: UndefinedMetricWarning: Precision and F-score are ill-defined and being set to 0.0 in labels with no predicted samples. Use `zero_division` parameter to control this behavior.\n",
            "  _warn_prf(average, modifier, msg_start, len(result))\n",
            "/usr/local/lib/python3.7/dist-packages/sklearn/metrics/_classification.py:1318: UndefinedMetricWarning: Precision and F-score are ill-defined and being set to 0.0 in labels with no predicted samples. Use `zero_division` parameter to control this behavior.\n",
            "  _warn_prf(average, modifier, msg_start, len(result))\n"
          ]
        }
      ]
    },
    {
      "cell_type": "code",
      "source": [
        "test_accuracy\n",
        "train_accuracy"
      ],
      "metadata": {
        "colab": {
          "base_uri": "https://localhost:8080/"
        },
        "id": "Y9b9Qy20toYv",
        "outputId": "d64a75bb-b711-4553-c2cd-22e712a13d31"
      },
      "execution_count": 21,
      "outputs": [
        {
          "output_type": "execute_result",
          "data": {
            "text/plain": [
              "0.6719900265904984"
            ]
          },
          "metadata": {},
          "execution_count": 21
        }
      ]
    },
    {
      "cell_type": "markdown",
      "source": [
        "# KNN Classifier\n"
      ],
      "metadata": {
        "id": "7A-MSjmQwVOk"
      }
    },
    {
      "cell_type": "code",
      "execution_count": 31,
      "metadata": {
        "colab": {
          "base_uri": "https://localhost:8080/",
          "height": 295
        },
        "id": "Rwsxrj_wuDiQ",
        "outputId": "ce8a8a43-42dc-4703-8f65-144fe1e1d692"
      },
      "outputs": [
        {
          "output_type": "display_data",
          "data": {
            "text/plain": [
              "<Figure size 432x288 with 1 Axes>"
            ],
            "image/png": "[encoded data removed]"
          },
          "metadata": {
            "needs_background": "light"
          }
        }
      ],
      "source": [
        "#KNN training\n",
        "\n",
        "N = 10 #len(X_train)-1 ; # number of samples, we tried all possible k vlaues then we reduced it to 50 to choose a proper value of k\n",
        "accuracy_training= [] #initializing an empty set to save the value of the training accuracy\n",
        "accuracy_validation= [] #initializing an empty set to save the value of the validation accuracy\n",
        "weights = \"distance\"; # using distance not uniform so the closer neighbors have higher influence than the far ones\n",
        "metric = \"euclidean\"; # the distance metric to use\n",
        "for i in range(N):\n",
        "  kNN = KNeighborsClassifier(n_neighbors=i+1, weights = weights, metric = metric);  # kNN model\n",
        "  kNN.fit(X_train, y_train) \n",
        "  #y_pred_val = kNN.predict(X_val) # prediction on test data\n",
        "  #knn_val=cross_val_score(kNN,X_train,y_train.ravel(), cv=11)\n",
        "  accuracy_training.append(kNN.score(X_train, y_train))\n",
        "  accuracy_validation.append(kNN.score(X_test, y_test))\n",
        "\n",
        "plt.plot(range(1, N+1), accuracy_training,range(1, N+1), accuracy_validation)\n",
        "plt.xlabel(\"Number of neighbors\")\n",
        "plt.ylabel(\"Accuracy value\")\n",
        "plt.title(\"Effect of the number of neighbors on the accuracy \")\n",
        "plt.legend([\" Training Accuracy\",\"Validation Accuracy\"])\n",
        "plt.show()"
      ]
    },
    {
      "cell_type": "code",
      "source": [
        "from sklearn.metrics import classification_report, make_scorer, accuracy_score\n",
        "\n",
        "y_pred_train = kNN.predict(X_train)\n",
        "y_pred_test = kNN.predict(X_test)\n",
        "\n",
        "print(classification_report(y_test, y_pred_test))"
      ],
      "metadata": {
        "colab": {
          "base_uri": "https://localhost:8080/"
        },
        "id": "z4SHgfC8p6pi",
        "outputId": "e56dc8fc-d9e6-4cde-9876-77b99351de01"
      },
      "execution_count": 33,
      "outputs": [
        {
          "output_type": "stream",
          "name": "stdout",
          "text": [
            "              precision    recall  f1-score   support\n",
            "\n",
            "          14       0.54      0.21      0.31       145\n",
            "          62       0.58      0.24      0.34       266\n",
            "         139       0.87      0.86      0.86       969\n",
            "         156       0.66      0.77      0.71      3275\n",
            "         166       0.53      0.45      0.49      4902\n",
            "         187       0.53      0.46      0.49      1672\n",
            "         194       0.66      0.36      0.47       216\n",
            "         216       0.92      0.87      0.89      9445\n",
            "         221       0.98      1.00      0.99     19051\n",
            "         225       0.77      0.84      0.80     11994\n",
            "         227       0.75      0.82      0.78       365\n",
            "         555       0.79      0.68      0.73      2017\n",
            "\n",
            "    accuracy                           0.84     54317\n",
            "   macro avg       0.71      0.63      0.66     54317\n",
            "weighted avg       0.83      0.84      0.83     54317\n",
            "\n"
          ]
        }
      ]
    },
    {
      "cell_type": "code",
      "source": [
        "# %%\n",
        "import joblib\n",
        "\n",
        "joblib.dump(kNN, \"/content/gdrive/My Drive/kNN10.pkl\")"
      ],
      "metadata": {
        "colab": {
          "base_uri": "https://localhost:8080/"
        },
        "id": "kDqpXs1oxeHE",
        "outputId": "7ba9dc85-2034-4dec-e1fe-01e35776c72a"
      },
      "execution_count": 37,
      "outputs": [
        {
          "output_type": "execute_result",
          "data": {
            "text/plain": [
              "['/content/gdrive/My Drive/kNN10.pkl']"
            ]
          },
          "metadata": {},
          "execution_count": 37
        }
      ]
    },
    {
      "cell_type": "code",
      "source": [
        "#List Hyperparameters that we want to tune.\n",
        "leaf_size = list(range(1,10))\n",
        "n_neighbors = list(range(1,2))\n",
        "p=[1,2]\n",
        "#Convert to dictionary\n",
        "hyperparameters = dict(leaf_size=leaf_size, n_neighbors=n_neighbors, p=p)\n",
        "#Create new KNN object\n",
        "TkNN = KNeighborsClassifier()\n",
        "#Use GridSearch\n",
        "TkNNclf = GridSearchCV(TkNN, hyperparameters, cv=10)\n",
        "#Fit the model\n",
        "best_model = TkNNclf.fit(X_train, y_train)\n",
        "#Print The value of best Hyperparameters\n",
        "print('Best leaf_size:', best_model.best_estimator_.get_params()['leaf_size'])\n",
        "print('Best p:', best_model.best_estimator_.get_params()['p'])\n",
        "print('Best n_neighbors:', best_model.best_estimator_.get_params()['n_neighbors'])"
      ],
      "metadata": {
        "colab": {
          "base_uri": "https://localhost:8080/"
        },
        "id": "oIFwZfzFXhqQ",
        "outputId": "b957e229-2165-4935-e3a0-9538976c2986"
      },
      "execution_count": 15,
      "outputs": [
        {
          "output_type": "stream",
          "name": "stdout",
          "text": [
            "Best leaf_size: 2\n",
            "Best p: 1\n",
            "Best n_neighbors: 1\n"
          ]
        }
      ]
    },
    {
      "cell_type": "code",
      "source": [
        "from sklearn.metrics import classification_report, make_scorer, accuracy_score\n",
        "weights = \"distance\"; # using distance not uniform so the closer neighbors have higher influence than the far ones\n",
        "metric = \"euclidean\"; # the distance metric to use\n",
        "TkNN = KNeighborsClassifier(n_neighbors = 1, leaf_size = 10, p=1, weights = weights, metric = metric)\n",
        "TkNN.fit(X_train, y_train)\n",
        "\n",
        "y_pred_train = TkNN.predict(X_train)\n",
        "y_pred_test = TkNN.predict(X_test)\n",
        "\n",
        "print(classification_report(y_test, y_pred_test))"
      ],
      "metadata": {
        "colab": {
          "base_uri": "https://localhost:8080/"
        },
        "id": "EA2-Z0p1fiWX",
        "outputId": "e9e176f2-9c3d-456d-c532-e58f9ea62111"
      },
      "execution_count": 25,
      "outputs": [
        {
          "output_type": "stream",
          "name": "stdout",
          "text": [
            "              precision    recall  f1-score   support\n",
            "\n",
            "          14       0.34      0.34      0.34       145\n",
            "          62       0.48      0.39      0.43       266\n",
            "         139       0.88      0.85      0.87       969\n",
            "         156       0.68      0.69      0.69      3275\n",
            "         166       0.48      0.51      0.50      4902\n",
            "         187       0.49      0.50      0.49      1672\n",
            "         194       0.52      0.48      0.50       216\n",
            "         216       0.88      0.89      0.88      9445\n",
            "         221       0.99      1.00      1.00     19051\n",
            "         225       0.78      0.76      0.77     11994\n",
            "         227       0.78      0.82      0.80       365\n",
            "         555       0.76      0.72      0.74      2017\n",
            "\n",
            "    accuracy                           0.83     54317\n",
            "   macro avg       0.67      0.66      0.67     54317\n",
            "weighted avg       0.83      0.83      0.83     54317\n",
            "\n"
          ]
        }
      ]
    },
    {
      "cell_type": "markdown",
      "source": [
        "# Support Vector Machine Classifier (SVC)"
      ],
      "metadata": {
        "id": "cm6stemDxu3z"
      }
    },
    {
      "cell_type": "code",
      "source": [
        "from sklearn.svm import SVC\n",
        "\n",
        "SVMC = SVC(max_iter = 1000, random_state=0)\n",
        "result = SVMC.fit(X_train, y_train)"
      ],
      "metadata": {
        "colab": {
          "base_uri": "https://localhost:8080/"
        },
        "id": "CTieXjAz6qb2",
        "outputId": "966d314b-3225-4193-874e-1b438cb19450"
      },
      "execution_count": 31,
      "outputs": [
        {
          "output_type": "stream",
          "name": "stderr",
          "text": [
            "/usr/local/lib/python3.7/dist-packages/sklearn/svm/_base.py:289: ConvergenceWarning: Solver terminated early (max_iter=1000).  Consider pre-processing your data with StandardScaler or MinMaxScaler.\n",
            "  ConvergenceWarning,\n"
          ]
        }
      ]
    },
    {
      "cell_type": "code",
      "source": [
        "y_pred_train = SVMC.predict(X_train)\n",
        "y_pred_test = SVMC.predict(X_test)\n",
        "\n",
        "print(classification_report(y_test, y_pred_test))"
      ],
      "metadata": {
        "colab": {
          "base_uri": "https://localhost:8080/"
        },
        "id": "X7Qjs4tJ-XTR",
        "outputId": "9c672dfb-a98b-43db-b46e-61ecb158a79b"
      },
      "execution_count": 32,
      "outputs": [
        {
          "output_type": "stream",
          "name": "stdout",
          "text": [
            "              precision    recall  f1-score   support\n",
            "\n",
            "          14       0.00      0.00      0.00       145\n",
            "          62       0.00      0.00      0.00       266\n",
            "         139       0.83      0.27      0.41       969\n",
            "         156       0.45      0.06      0.10      3275\n",
            "         166       0.36      0.02      0.03      4902\n",
            "         187       0.28      0.92      0.43      1672\n",
            "         194       0.00      0.00      0.00       216\n",
            "         216       0.07      0.00      0.00      9445\n",
            "         221       0.85      0.20      0.32     19051\n",
            "         225       0.68      0.97      0.80     11994\n",
            "         227       0.84      0.09      0.16       365\n",
            "         555       0.07      0.86      0.12      2017\n",
            "\n",
            "    accuracy                           0.35     54317\n",
            "   macro avg       0.37      0.28      0.20     54317\n",
            "weighted avg       0.55      0.35      0.32     54317\n",
            "\n"
          ]
        },
        {
          "output_type": "stream",
          "name": "stderr",
          "text": [
            "/usr/local/lib/python3.7/dist-packages/sklearn/metrics/_classification.py:1318: UndefinedMetricWarning: Precision and F-score are ill-defined and being set to 0.0 in labels with no predicted samples. Use `zero_division` parameter to control this behavior.\n",
            "  _warn_prf(average, modifier, msg_start, len(result))\n",
            "/usr/local/lib/python3.7/dist-packages/sklearn/metrics/_classification.py:1318: UndefinedMetricWarning: Precision and F-score are ill-defined and being set to 0.0 in labels with no predicted samples. Use `zero_division` parameter to control this behavior.\n",
            "  _warn_prf(average, modifier, msg_start, len(result))\n",
            "/usr/local/lib/python3.7/dist-packages/sklearn/metrics/_classification.py:1318: UndefinedMetricWarning: Precision and F-score are ill-defined and being set to 0.0 in labels with no predicted samples. Use `zero_division` parameter to control this behavior.\n",
            "  _warn_prf(average, modifier, msg_start, len(result))\n"
          ]
        }
      ]
    },
    {
      "cell_type": "code",
      "source": [
        "from sklearn.model_selection import GridSearchCV\n",
        "  \n",
        "# defining parameter range\n",
        "param_grid = {'C': [0.1, 1, 10], \n",
        "              'gamma': [1, 0.1, 0.01],\n",
        "              'kernel': ['rbf']} \n",
        "  \n",
        "grid = GridSearchCV(SVC(), param_grid, refit = True, verbose = 3)\n",
        "  \n",
        "# fitting the model for grid search\n",
        "grid.fit(X_train, y_train)"
      ],
      "metadata": {
        "id": "VDm_AHxL0dbd"
      },
      "execution_count": null,
      "outputs": []
    },
    {
      "cell_type": "markdown",
      "source": [
        "# Decision Tree"
      ],
      "metadata": {
        "id": "d2iInA-vApob"
      }
    },
    {
      "cell_type": "code",
      "source": [
        "from sklearn import tree\n",
        "\n",
        "#Decision Tress model object\n",
        "dtclf = tree.DecisionTreeClassifier()"
      ],
      "metadata": {
        "id": "pxolEv70BM_I"
      },
      "execution_count": 34,
      "outputs": []
    },
    {
      "cell_type": "code",
      "source": [
        "#loss function\n",
        "\n",
        "# 5 fold CV object\n",
        "kfold = KFold(n_splits=5, random_state=0, shuffle=True)\n",
        "\n",
        "# create new feature set with encoded features\n",
        "\n",
        "# Create grid of hyperparameter values\n",
        "hyper_grid = {\n",
        "  'ccp_alpha': [1e-1, 1e-5, 1e-10],\n",
        "  'max_depth': [1, 8, 15],\n",
        "  'min_samples_split': [2, 21, 40]\n",
        "  }\n",
        "\n",
        "#Tune the model using grid search\n",
        "grid_search = GridSearchCV(dtclf, hyper_grid, cv=kfold)\n",
        "results = grid_search.fit(X_train, y_train)\n",
        "\n",
        "# Optimal penalty parameter in grid search\n",
        "print(results.best_estimator_.get_params())\n",
        "\n",
        "# Best model's cross validated RMSE\n",
        "print(round(abs(results.best_score_), 2))\n"
      ],
      "metadata": {
        "colab": {
          "base_uri": "https://localhost:8080/"
        },
        "id": "aSv7DgBfApIq",
        "outputId": "aa747161-a4e4-4d85-a04a-70d1c66c04d6"
      },
      "execution_count": 35,
      "outputs": [
        {
          "output_type": "stream",
          "name": "stdout",
          "text": [
            "{'ccp_alpha': 1e-05, 'class_weight': None, 'criterion': 'gini', 'max_depth': 15, 'max_features': None, 'max_leaf_nodes': None, 'min_impurity_decrease': 0.0, 'min_samples_leaf': 1, 'min_samples_split': 2, 'min_weight_fraction_leaf': 0.0, 'random_state': None, 'splitter': 'best'}\n",
            "0.86\n"
          ]
        }
      ]
    },
    {
      "cell_type": "code",
      "source": [
        "dtclf = tree.DecisionTreeClassifier(ccp_alpha= 1e-5, max_depth= 15, min_samples_leaf = 1, min_samples_split= 2).fit(X_train, y_train)"
      ],
      "metadata": {
        "id": "cUl-sBwXC6vW"
      },
      "execution_count": 36,
      "outputs": []
    },
    {
      "cell_type": "code",
      "source": [
        "y_pred_train = dtclf.predict(X_train)\n",
        "y_pred_test = dtclf.predict(X_test)\n",
        "\n",
        "print(classification_report(y_test, y_pred_test))"
      ],
      "metadata": {
        "colab": {
          "base_uri": "https://localhost:8080/"
        },
        "id": "NJgA9J6JDSXf",
        "outputId": "4c2f42f0-afae-4186-9c0e-472ce8fb72f0"
      },
      "execution_count": 37,
      "outputs": [
        {
          "output_type": "stream",
          "name": "stdout",
          "text": [
            "              precision    recall  f1-score   support\n",
            "\n",
            "          14       0.47      0.41      0.44       145\n",
            "          62       0.48      0.39      0.43       266\n",
            "         139       0.89      0.90      0.90       969\n",
            "         156       0.63      0.80      0.71      3275\n",
            "         166       0.61      0.49      0.55      4902\n",
            "         187       0.47      0.39      0.43      1672\n",
            "         194       0.62      0.32      0.43       216\n",
            "         216       0.96      0.88      0.91      9445\n",
            "         221       1.00      1.00      1.00     19051\n",
            "         225       0.79      0.88      0.83     11994\n",
            "         227       0.83      0.90      0.86       365\n",
            "         555       0.81      0.77      0.79      2017\n",
            "\n",
            "    accuracy                           0.86     54317\n",
            "   macro avg       0.71      0.68      0.69     54317\n",
            "weighted avg       0.86      0.86      0.85     54317\n",
            "\n"
          ]
        }
      ]
    }
  ]
}